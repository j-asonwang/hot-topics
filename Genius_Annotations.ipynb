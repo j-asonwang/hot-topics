{
 "cells": [
  {
   "cell_type": "code",
   "execution_count": 213,
   "metadata": {},
   "outputs": [],
   "source": [
    "import lyricsgenius\n",
    "import requests\n",
    "import math\n",
    "import time\n",
    "import re\n",
    "import pandas as pd"
   ]
  },
  {
   "cell_type": "code",
   "execution_count": 181,
   "metadata": {},
   "outputs": [],
   "source": [
    "sleep_time = .2"
   ]
  },
  {
   "cell_type": "code",
   "execution_count": 97,
   "metadata": {},
   "outputs": [],
   "source": [
    "genius = lyricsgenius.Genius(\"UzI86AWL4bI0YZ0f3nX5MAjFBKwoeivRrzaQS6N_NPRBsn8Eqoh2Vqe1JmQSddmA\")"
   ]
  },
  {
   "cell_type": "code",
   "execution_count": 131,
   "metadata": {},
   "outputs": [],
   "source": [
    "def referent_request(song_id, page):\n",
    "\n",
    "    api_key = 'UzI86AWL4bI0YZ0f3nX5MAjFBKwoeivRrzaQS6N_NPRBsn8Eqoh2Vqe1JmQSddmA'\n",
    "    url = 'https://api.genius.com/referents?'\n",
    "    headers = {'Authorization': 'Bearer {}'.format(api_key)}\n",
    "    url_params = {  'song_id': song_id,\n",
    "                    'text_format': 'plain',\n",
    "                    'page': page\n",
    "                }\n",
    "    response = requests.get(url, headers=headers, params=url_params, timeout=5)\n",
    "    return response.json()['response']['referents']\n"
   ]
  },
  {
   "cell_type": "code",
   "execution_count": 206,
   "metadata": {},
   "outputs": [],
   "source": [
    "def get_annotations(song_ids):\n",
    "    all_annotations = {}\n",
    "\n",
    "    for element in song_ids:\n",
    "        # get annotation count for a given song\n",
    "        annotation_count = element['annotation_count']\n",
    "\n",
    "        # calculate number of pages of annotations for song\n",
    "        pages = math.ceil(annotation_count/10)\n",
    "\n",
    "        annotations = []\n",
    "\n",
    "        # return referent info for all pages\n",
    "        for x in list(range(1,pages+1)):\n",
    "            full_referent = referent_request(song_id=element['song_id'],page=x)\n",
    "            time.sleep(sleep_time)\n",
    "\n",
    "            # get all annotations on given page\n",
    "            for x in list(range(0,len(full_referent))):\n",
    "                annotations.append(full_referent[x]['annotations'][0]['body']['plain'])\n",
    "\n",
    "        # add song id and corresponding annotations to dictionary\n",
    "        all_annotations[song_id] = annotations\n",
    "        \n",
    "    return all_annotations"
   ]
  },
  {
   "cell_type": "code",
   "execution_count": 189,
   "metadata": {},
   "outputs": [],
   "source": [
    "def song_name_to_id(song_queries):\n",
    "    '''\n",
    "    Given list of song queries with song name and artist, returns a list of dictionaries\n",
    "    where each element contains a song id and the corresponding number of annotations.\n",
    "    '''\n",
    "    id_and_annotation_count = []\n",
    "    for query in song_queries:\n",
    "        result = genius.search_genius(query)['hits'][0]['result']\n",
    "        id_and_annotation_count.append({'song_id': result['id'], \n",
    "                                        'annotation_count': result['annotation_count']})\n",
    "        time.sleep(sleep_time)\n",
    "    return id_and_annotation_count"
   ]
  },
  {
   "cell_type": "code",
   "execution_count": 209,
   "metadata": {},
   "outputs": [],
   "source": [
    "song_queries = dans_jams\n",
    "dans_jams_ids = song_name_to_id(song_queries)"
   ]
  },
  {
   "cell_type": "code",
   "execution_count": 207,
   "metadata": {},
   "outputs": [
    {
     "ename": "TypeError",
     "evalue": "'int' object is not subscriptable",
     "output_type": "error",
     "traceback": [
      "\u001b[0;31m---------------------------------------------------------------------------\u001b[0m",
      "\u001b[0;31mTypeError\u001b[0m                                 Traceback (most recent call last)",
      "\u001b[0;32m<ipython-input-207-48ba953885d1>\u001b[0m in \u001b[0;36m<module>\u001b[0;34m\u001b[0m\n\u001b[1;32m      1\u001b[0m \u001b[0msong_ids\u001b[0m \u001b[0;34m=\u001b[0m \u001b[0;34m[\u001b[0m\u001b[0;36m63952\u001b[0m\u001b[0;34m,\u001b[0m\u001b[0;36m349090\u001b[0m\u001b[0;34m,\u001b[0m\u001b[0;36m4249136\u001b[0m\u001b[0;34m]\u001b[0m\u001b[0;34m\u001b[0m\u001b[0;34m\u001b[0m\u001b[0m\n\u001b[0;32m----> 2\u001b[0;31m \u001b[0mtest_annotations\u001b[0m \u001b[0;34m=\u001b[0m \u001b[0mget_annotations\u001b[0m\u001b[0;34m(\u001b[0m\u001b[0msong_ids\u001b[0m\u001b[0;34m)\u001b[0m\u001b[0;34m\u001b[0m\u001b[0;34m\u001b[0m\u001b[0m\n\u001b[0m",
      "\u001b[0;32m<ipython-input-206-90b384583d8f>\u001b[0m in \u001b[0;36mget_annotations\u001b[0;34m(song_ids)\u001b[0m\n\u001b[1;32m      4\u001b[0m     \u001b[0;32mfor\u001b[0m \u001b[0melement\u001b[0m \u001b[0;32min\u001b[0m \u001b[0msong_ids\u001b[0m\u001b[0;34m:\u001b[0m\u001b[0;34m\u001b[0m\u001b[0;34m\u001b[0m\u001b[0m\n\u001b[1;32m      5\u001b[0m         \u001b[0;31m# get annotation count for a given song\u001b[0m\u001b[0;34m\u001b[0m\u001b[0;34m\u001b[0m\u001b[0;34m\u001b[0m\u001b[0m\n\u001b[0;32m----> 6\u001b[0;31m         \u001b[0mannotation_count\u001b[0m \u001b[0;34m=\u001b[0m \u001b[0melement\u001b[0m\u001b[0;34m[\u001b[0m\u001b[0;34m'annotation_count'\u001b[0m\u001b[0;34m]\u001b[0m\u001b[0;34m\u001b[0m\u001b[0;34m\u001b[0m\u001b[0m\n\u001b[0m\u001b[1;32m      7\u001b[0m \u001b[0;34m\u001b[0m\u001b[0m\n\u001b[1;32m      8\u001b[0m         \u001b[0;31m# calculate number of pages of annotations for song\u001b[0m\u001b[0;34m\u001b[0m\u001b[0;34m\u001b[0m\u001b[0;34m\u001b[0m\u001b[0m\n",
      "\u001b[0;31mTypeError\u001b[0m: 'int' object is not subscriptable"
     ]
    }
   ],
   "source": [
    "test_annotations = get_annotations(song_ids)"
   ]
  },
  {
   "cell_type": "code",
   "execution_count": 212,
   "metadata": {},
   "outputs": [
    {
     "data": {
      "text/plain": [
       "'This lyric is both ironic and sincere; Julian and Nikolai, in particular, have been friends since childhood, but the band is still precociously young at this recording (between 19-21) and, at best, imagining a future when they’ll look back on the debauchery of the Is This It era as the glory days. Best friends fight but they never enjoy life as much as when they abuse it –The Strokes, Gratisfaction'"
      ]
     },
     "execution_count": 212,
     "metadata": {},
     "output_type": "execute_result"
    }
   ],
   "source": [
    "string = \"This lyric is both ironic and sincere; Julian and Nikolai, in particular, have been friends since childhood, but the band is still precociously young at this recording (between 19-21) and, at best, imagining a future when they’ll look back on the debauchery of the Is This It era as the glory days.\\n\\nBest friends fight\\nbut they never enjoy life\\nas much as when they abuse it\\n–The Strokes, Gratisfaction\"\n",
    "re.sub('\\s+', ' ', string)"
   ]
  },
  {
   "cell_type": "code",
   "execution_count": 193,
   "metadata": {},
   "outputs": [],
   "source": [
    "dans_jams = [\"Where Dragons Dwell Gojira\",\n",
    "             \"A Favor House Atlantic Coheed\",\n",
    "             \"22 Faces Periphery\",\n",
    "             \"Sun of Nothing Between The Buried and Me\",\n",
    "             \"Bramfatura 3\",\n",
    "             \"Serpents in Disguise 3\",\n",
    "             \"Nocturnal Conspiracy Haken\",\n",
    "             \"Sgt. Pepper's Lonely Hearts Beatles\",\n",
    "             \"Three Evils Coheed\",\n",
    "             \"Dawn Gojira\",\n",
    "             \"Falling Back to Earth Haken\",\n",
    "             \"Liberation Gojira\",\n",
    "             \"Kingdom Devin Townsend\",\n",
    "             \"broken lovelytheband\",\n",
    "             \"Queen 3\",\n",
    "             \"Pearl of the Stars Coheed\",\n",
    "             \"Pain is a Master Gojira\",\n",
    "             \"Nothing else matters Metallica\",\n",
    "             \"Node Between the Buried and Me\"]"
   ]
  },
  {
   "cell_type": "code",
   "execution_count": 192,
   "metadata": {},
   "outputs": [],
   "source": [
    "derricks_poon_tunes = ['bad guy Billie Eilish',\n",
    "'Alison Elvis Costello',\n",
    "'Ceremony New Order',\n",
    "'London Calling The Clash',\n",
    "'Teen Age Riot Sonic Youth',\n",
    "'Transmission Joy Division',\n",
    "'Alex Chilton The Replacements',\n",
    "'In Between Days The Cure',\n",
    "'Let’s Go Crazy Prince',\n",
    "'This Modern Love Bloc Party',\n",
    "'In the City The Jam',\n",
    "'Stephanie Says The Velvet Underground',\n",
    "'Gigantic Pixies',\n",
    "'All my Friends LCD Soundsystem',\n",
    "'This Charming Man The Smiths']"
   ]
  },
  {
   "cell_type": "code",
   "execution_count": 199,
   "metadata": {},
   "outputs": [],
   "source": [
    "graces = [\"japanese denim daniel caesar\", \"ordinary people john legend\", \n",
    "          \"paris in the rain lauv\", \"break up with your girlfriend i'm bored ariana grande\",\n",
    "          \"written in the starts john legend wendy\", \"lost in japan shawn mendes\", \n",
    "          \"best part her\", \"talk khalid\", \"dancing with a stranger sam smith normani\"]"
   ]
  },
  {
   "cell_type": "code",
   "execution_count": 200,
   "metadata": {},
   "outputs": [],
   "source": [
    "kevins_pops = ['Fight Song Rachel Platten', \n",
    " 'Outsiders Against the Current', \n",
    " \"Should've Been Us Tori Kelly\",\n",
    " 'Hollow Tori Kelly',\n",
    " 'Scars To Your Beautiful Alessia Clara',\n",
    " 'Break Free Ariana Grande',\n",
    " 'Closer The Chainsmokers',\n",
    " 'Treat You Better Shawn Mendes',\n",
    " 'Never Forget You Zara Larsson',\n",
    " 'WILD  Troye Sivan',\n",
    " 'Talking Body Tove Lo',\n",
    " 'Dear No One Tori Kelly',\n",
    " 'Sound of Your Heart Shawn Hook',\n",
    " 'Counting Stars One Republic',\n",
    " 'Let it Go James Bay',\n",
    " 'Waiting for Love Avicii',\n",
    " 'Demons Imagine Dragon',\n",
    " 'Hall of Fame, The Script',\n",
    " 'Nobody Love Tori Kelly']"
   ]
  },
  {
   "cell_type": "code",
   "execution_count": 204,
   "metadata": {},
   "outputs": [],
   "source": [
    "bae_lena_hoe_lena= ['Only Child Tierra Whack',\n",
    "'Truth Hurts Lizzo',\n",
    "'Wow Zara Larson',\n",
    "'Slow Burn Kacey Musgraves',\n",
    "'Cain EXES',\n",
    "'NASA Ariana Grande',\n",
    "'Television / So Far So Good Rex Orange County',\n",
    "'Barefoot in the Park James Blake',\n",
    "'Cola Arlo Parks',\n",
    "'Patience Tame Impala',\n",
    "'IDGAF Dua Lipa',\n",
    "'New Rules Dua Lipa',\n",
    "'Clueless The Marias']"
   ]
  },
  {
   "cell_type": "code",
   "execution_count": 215,
   "metadata": {},
   "outputs": [
    {
     "data": {
      "text/plain": [
       "['rabbot ho thundercat',\n",
       " 'captain stupido thundercat',\n",
       " 'uh uh thundercat',\n",
       " 'Bus in These Streets thundercat',\n",
       " 'A Fans Mail thundercat',\n",
       " 'lava lamp thundercat',\n",
       " 'jethro thundercat',\n",
       " 'Day & Night thundercat',\n",
       " 'show you the way thundercat',\n",
       " 'walk on by thundercat',\n",
       " 'blackkk thundercat',\n",
       " 'tokyo thundercat',\n",
       " 'jameels space ride thundercat',\n",
       " 'friend zone thundercat',\n",
       " 'them changes thundercat',\n",
       " 'where im going thundercat',\n",
       " 'drink dat thundercat',\n",
       " 'inferno thundercat',\n",
       " 'i am crazy thundercat',\n",
       " '3am thundercat',\n",
       " 'drunk thundercat',\n",
       " 'the turn down thundercat',\n",
       " 'dui thundercat',\n",
       " 'hi mac miller thundercat']"
      ]
     },
     "execution_count": 215,
     "metadata": {},
     "output_type": "execute_result"
    }
   ],
   "source": [
    "thom = ['Last Hurrah Bebe Rexha', 'Lets Shut Up & Dance Jason Derulo', \n",
    "        '4EVER The Black Eyed Peas', 'Please Me Cardi B & Bruno Mars', \n",
    "        'Medicine Jennifer Lopez', 'Green Light Go Becky G', 'Bad Guy Billie Eilish', \n",
    "        'Dont Worry About Me Zara Larsson', 'Boy With Luv BTS']\n",
    "rene = ['meet again maxo kream'\n",
    ",'roaches maxo kream'\n",
    ",'love story taylor swift'\n",
    ",'drip too hard lil baby & gunna'\n",
    ",'going bad meek mill and drake'\n",
    ",'heartbeat childish gambino'\n",
    ",'im sorry joyner lucas'\n",
    ",'keep it 100 joyner lucas'\n",
    ",'pound cake drake and jay z'\n",
    ",'skywalker miguel'\n",
    "]\n",
    "\n",
    "coles_songs = [\"rabbot ho\", \"captain stupido\", \"uh uh\", \"Bus in These Streets\", \"A Fans Mail\",\n",
    "               \"lava lamp\", \"jethro\", \"Day & Night\", \"show you the way\", \"walk on by\", \n",
    "               \"blackkk\", \"tokyo\", \"jameels space ride\", 'friend zone', 'them changes', \n",
    "               'where im going', 'drink dat', 'inferno', 'i am crazy', '3am', 'drunk', \n",
    "               'the turn down', 'dui', 'hi mac miller']\n",
    "coles_playlist = [x + ' thundercat' for x in coles_songs]\n",
    "coles_playlist"
   ]
  },
  {
   "cell_type": "code",
   "execution_count": null,
   "metadata": {},
   "outputs": [],
   "source": []
  }
 ],
 "metadata": {
  "kernelspec": {
   "display_name": "Python 3",
   "language": "python",
   "name": "python3"
  },
  "language_info": {
   "codemirror_mode": {
    "name": "ipython",
    "version": 3
   },
   "file_extension": ".py",
   "mimetype": "text/x-python",
   "name": "python",
   "nbconvert_exporter": "python",
   "pygments_lexer": "ipython3",
   "version": "3.7.1"
  }
 },
 "nbformat": 4,
 "nbformat_minor": 2
}
